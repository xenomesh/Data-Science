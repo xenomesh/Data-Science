{
 "cells": [
  {
   "cell_type": "code",
   "execution_count": 13,
   "metadata": {},
   "outputs": [
    {
     "name": "stdout",
     "output_type": "stream",
     "text": [
      "Odd numbers from 1 to 50\n",
      "==========================\n",
      "[1, 3, 5, 7, 9, 11, 13, 15, 17, 19, 21, 23, 25, 27, 29, 31, 33, 35, 37, 39, 41, 43, 45, 47, 49]\n"
     ]
    }
   ],
   "source": [
    "# Problem 1\n",
    "print('Odd numbers from 1 to 50')\n",
    "print('==========================')\n",
    "\n",
    "list1 = [item for item in range(1,51) if item % 2 != 0]\n",
    "print(list1)"
   ]
  },
  {
   "cell_type": "code",
   "execution_count": 47,
   "metadata": {},
   "outputs": [
    {
     "name": "stdout",
     "output_type": "stream",
     "text": [
      "All Numbers Divisible By 13\n",
      "============================\n",
      "[65, 39, 221]\n"
     ]
    }
   ],
   "source": [
    "# Problem 2 \n",
    "print('All Numbers Divisible By 13')\n",
    "print('============================')\n",
    "\n",
    "my_list = [12, 65, 54, 39, 102, 339, 221, 50]\n",
    "\n",
    "print(list(filter(lambda x: x % 13 == 0, my_list)))"
   ]
  },
  {
   "cell_type": "code",
   "execution_count": 50,
   "metadata": {},
   "outputs": [
    {
     "name": "stdout",
     "output_type": "stream",
     "text": [
      "[('John', 'EWU'), ('Charles', 'Depaul'), ('Mike', 'IIT')]\n",
      "John: EWU\n",
      "Charles: Depaul\n",
      "Mike: IIT\n"
     ]
    }
   ],
   "source": [
    "# Problem 3\n",
    "name_list = ['John', 'Charles','Mike']\n",
    "university_list = ['EWU','Depaul','IIT']\n",
    "zipped = zip(name_list, university_list)\n",
    "zipped = list(zipped)\n",
    "print(zipped)\n",
    "\n",
    "for name , university in zip(name_list,university_list):\n",
    "    print(f'{name}: {university}')"
   ]
  },
  {
   "cell_type": "code",
   "execution_count": null,
   "metadata": {},
   "outputs": [],
   "source": []
  }
 ],
 "metadata": {
  "kernelspec": {
   "display_name": "Python 3",
   "language": "python",
   "name": "python3"
  },
  "language_info": {
   "codemirror_mode": {
    "name": "ipython",
    "version": 3
   },
   "file_extension": ".py",
   "mimetype": "text/x-python",
   "name": "python",
   "nbconvert_exporter": "python",
   "pygments_lexer": "ipython3",
   "version": "3.7.5"
  }
 },
 "nbformat": 4,
 "nbformat_minor": 2
}
