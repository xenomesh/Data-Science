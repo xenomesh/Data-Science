{
 "cells": [
  {
   "cell_type": "code",
   "execution_count": 1,
   "metadata": {},
   "outputs": [
    {
     "name": "stdout",
     "output_type": "stream",
     "text": [
      "[1, 5, 3, 1, 4, 2, 6, 6, 5, 2, 6, 5, 6, 2, 4, 5, 4, 3, 4, 4, 2, 2, 6, 4, 5, 2, 5, 4, 5, 4, 6, 6, 3, 6, 1, 2, 1, 3, 2, 1, 3, 2, 6, 4, 1, 3, 6, 5, 3, 5, 2, 1, 3, 3, 5, 3, 3, 4, 2, 3, 1, 6, 4, 2, 4, 3, 5, 3, 3, 1, 2, 5, 4, 2, 4, 5, 5, 3, 2, 1, 2, 6, 1, 2, 6, 5, 3, 1, 5, 4, 6, 2, 5, 5, 3, 3, 1, 6, 6, 4, 1, 2, 6, 2, 1, 5, 5, 4, 4, 5, 4, 4, 2, 6, 6, 1, 6, 2, 1, 2, 4, 5, 3, 4, 3, 2, 2, 2, 5, 1, 6, 3, 6, 1, 4, 1, 6, 2, 1, 1, 1, 4, 3, 5, 4, 2, 5, 2, 6, 2, 4, 1, 5, 3, 4, 5, 1, 1, 5, 1, 1, 4, 2, 3, 3, 6, 2, 5, 4, 2, 1, 1, 3, 2, 6, 1, 1, 4, 2, 2, 4, 1, 3, 6, 5, 4, 4, 5, 2, 3, 1, 1, 6, 1, 3, 5, 2, 3, 4, 4, 1, 2, 4, 5, 4, 6, 5, 6, 4, 1, 1, 6, 1, 3, 1, 3, 1, 1, 1, 4, 4, 1, 5, 4, 5, 5, 6, 2, 1, 1, 2, 5, 1, 1, 5, 6, 6, 1, 2, 2, 5, 1, 4, 6, 3, 2, 1, 6, 4, 1, 2, 3, 2, 1, 3, 6, 2, 4, 2, 2, 3, 6, 1, 2, 3, 1, 4, 1, 3, 3, 1, 4, 2, 3, 4, 3, 1, 4, 2, 3, 3, 5, 3, 3, 1, 4, 6, 5, 3, 4, 6, 6, 2, 6, 6, 1, 1, 2, 6, 4, 2, 4, 5, 1, 6, 2, 4, 2, 2, 6, 5, 3, 2, 2, 1, 4, 5, 6, 4, 1, 6, 3, 3, 3, 5, 5, 1, 5, 1, 1, 5, 4, 2, 2, 3, 5, 1, 1, 3, 5, 4, 6, 4, 1, 5, 4, 3, 3, 4, 5, 4, 4, 1, 2, 2, 3, 4, 1, 3, 2, 5, 1, 6, 5, 1, 1, 1, 5, 3, 3, 5, 2, 6, 4, 4, 3, 4, 5, 6, 3, 6, 1, 2, 1, 3, 1, 3, 5, 2, 3, 3, 1, 5, 3, 5, 2, 6, 6, 6, 3, 2, 6, 4, 2, 1, 5, 6, 4, 1, 5, 6, 3, 2, 1, 6, 4, 1, 5, 5, 2, 3, 3, 4, 5, 4, 4, 2, 6, 6, 1, 6, 4, 1, 6, 6, 5, 3, 4, 5, 4, 6, 1, 3, 3, 6, 2, 6, 5, 3, 5, 5, 6, 1, 4, 6, 3, 5, 2, 2, 5, 1, 1, 1, 5, 4, 5, 1, 5, 5, 4, 1, 3, 6, 3, 2, 3, 4, 5, 1, 2, 2, 6, 2, 2, 3, 1, 6, 3, 4, 5, 3, 4, 4, 2, 1, 6, 3, 4, 3, 1, 5, 5, 4, 6, 6, 3, 1, 5, 3, 5, 4, 1, 2, 2, 5, 6, 3, 4, 5, 2, 5, 1, 1, 3, 6, 6, 5, 4, 5, 2, 3, 4, 2, 2, 3, 1, 2, 6, 3, 3, 3, 4, 4, 4, 2, 3, 6, 1, 6, 5, 6, 4, 4, 5, 4, 3, 5, 2, 6, 4, 3, 6, 5, 5, 6, 1, 4, 4, 2, 3, 3, 1, 2, 6, 6, 3, 1, 2, 5, 6, 4, 1, 5, 3, 6, 6, 1, 2, 5, 2, 4, 3, 5, 6, 1, 2, 1, 5, 6, 2]\n"
     ]
    }
   ],
   "source": [
    "import random\n",
    "\n",
    "# Create a list of 600 random die values by using list comprehension\n",
    "rolls = [random.randrange(1,7) for i in range(600)]\n",
    "print(rolls)"
   ]
  },
  {
   "cell_type": "code",
   "execution_count": 3,
   "metadata": {},
   "outputs": [
    {
     "name": "stdout",
     "output_type": "stream",
     "text": [
      "1: 111 times\n",
      "2: 99 times\n",
      "3: 100 times\n",
      "4: 99 times\n",
      "5: 98 times\n",
      "6: 93 times\n"
     ]
    }
   ],
   "source": [
    "for i in range(1,7):\n",
    "    print(f'{i}: {rolls.count(i)} times')"
   ]
  },
  {
   "cell_type": "code",
   "execution_count": 5,
   "metadata": {},
   "outputs": [
    {
     "name": "stdout",
     "output_type": "stream",
     "text": [
      "[1 2 3 4 5 6] [111  99 100  99  98  93]\n"
     ]
    }
   ],
   "source": [
    "# By using NumPy Unique Function\n",
    "# expects an ndarray argument and returns an ndarray for better perfomance.\n",
    "# Unique function finds the unique elements of an array.\n",
    "# The keyword returns_counts:\n",
    "#      If True, also return the number of times each unique item appears in array.\n",
    "#      If False, only the list of unique values is returned\n",
    "import numpy as np\n",
    "values, frequencies = np.unique(rolls, return_counts = True)\n",
    "print(values, frequencies)"
   ]
  },
  {
   "cell_type": "code",
   "execution_count": 6,
   "metadata": {},
   "outputs": [
    {
     "name": "stdout",
     "output_type": "stream",
     "text": [
      "[0.185      0.165      0.16666667 0.165      0.16333333 0.155     ]\n",
      "18.50%\n",
      "16.50%\n",
      "16.67%\n",
      "16.50%\n",
      "16.33%\n",
      "15.50%\n"
     ]
    }
   ],
   "source": [
    "# Calculate percentage of total\n",
    "percents = frequencies /len(rolls)\n",
    "print(percents)\n",
    "\n",
    "for percent in (percents):\n",
    "    print(f'{percent:.2%}')"
   ]
  },
  {
   "cell_type": "code",
   "execution_count": 7,
   "metadata": {},
   "outputs": [
    {
     "name": "stdout",
     "output_type": "stream",
     "text": [
      " 1:      111 times   18.50%\n",
      " 2:       99 times   16.50%\n",
      " 3:      100 times   16.67%\n",
      " 4:       99 times   16.50%\n",
      " 5:       98 times   16.33%\n",
      " 6:       93 times   15.50%\n"
     ]
    }
   ],
   "source": [
    "for value, count, percent in zip(values, frequencies, percents):\n",
    "    print(f'{value:>2}: {count:>8} times {percent:>8.2%}')"
   ]
  },
  {
   "cell_type": "code",
   "execution_count": null,
   "metadata": {},
   "outputs": [],
   "source": []
  }
 ],
 "metadata": {
  "kernelspec": {
   "display_name": "Python 3",
   "language": "python",
   "name": "python3"
  },
  "language_info": {
   "codemirror_mode": {
    "name": "ipython",
    "version": 3
   },
   "file_extension": ".py",
   "mimetype": "text/x-python",
   "name": "python",
   "nbconvert_exporter": "python",
   "pygments_lexer": "ipython3",
   "version": "3.7.5"
  }
 },
 "nbformat": 4,
 "nbformat_minor": 2
}
