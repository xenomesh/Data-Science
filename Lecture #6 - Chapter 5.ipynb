{
 "cells": [
  {
   "cell_type": "code",
   "execution_count": 1,
   "metadata": {},
   "outputs": [
    {
     "name": "stdout",
     "output_type": "stream",
     "text": [
      "[1, 2, 3, 4, 5]\n"
     ]
    }
   ],
   "source": [
    "# 5.12 List Comprehensions - a concise and convenient notation \n",
    "# for creating new lists\n",
    "# Basic Syntax:\n",
    "# [Expression for item in a list if conditional]\n",
    "# Not Using List Comprehension (Regular)\n",
    "\n",
    "list1 = []\n",
    "\n",
    "for item in range(1,6):\n",
    "    list1.append(item)\n",
    "print(list1)"
   ]
  },
  {
   "cell_type": "code",
   "execution_count": 2,
   "metadata": {},
   "outputs": [
    {
     "name": "stdout",
     "output_type": "stream",
     "text": [
      "[1, 2, 3, 4, 5]\n"
     ]
    }
   ],
   "source": [
    "# Using a list comprehension to create a list in Integers\n",
    "\n",
    "list2 = [item for item in range(1,6)]\n",
    "print(list2)"
   ]
  },
  {
   "cell_type": "code",
   "execution_count": 3,
   "metadata": {},
   "outputs": [
    {
     "name": "stdout",
     "output_type": "stream",
     "text": [
      "[1, 8, 27, 64, 125]\n"
     ]
    }
   ],
   "source": [
    "# Mapping: Performing Operations in a list Comprehension's Expression\n",
    "\n",
    "list3 = [item ** 3 for item in range(1,6)]\n",
    "print(list3)"
   ]
  },
  {
   "cell_type": "code",
   "execution_count": 4,
   "metadata": {},
   "outputs": [
    {
     "name": "stdout",
     "output_type": "stream",
     "text": [
      "Even numbers = [2, 4, 6, 8, 10]\n"
     ]
    }
   ],
   "source": [
    "# Filtering: List Comprehension with if Clause\n",
    "\n",
    "list4 = [item for item in range(1,11) if item % 2 == 0]\n",
    "print(f'Even numbers = {list4}')"
   ]
  },
  {
   "cell_type": "code",
   "execution_count": 6,
   "metadata": {},
   "outputs": [
    {
     "name": "stdout",
     "output_type": "stream",
     "text": [
      "['RED', 'ORANGE', 'YELLOW', 'GREEN', 'BLUE']\n"
     ]
    }
   ],
   "source": [
    "# List Comprehension That Processes Another List's Elements\n",
    "colors = ['red', 'orange','yellow','green','blue']\n",
    "colors2 = [item.upper() for item in colors]\n",
    "\n",
    "print(colors2)"
   ]
  },
  {
   "cell_type": "code",
   "execution_count": 9,
   "metadata": {},
   "outputs": [
    {
     "name": "stdout",
     "output_type": "stream",
     "text": [
      "[3, 7, 1, 9, 5]\n"
     ]
    }
   ],
   "source": [
    "# 5.14 Filter, Map, Reduce\n",
    "# Fliter function for filtering\n",
    "# For example, filter's first argument must be a function that recieve one\n",
    "# argument and returns True if the value should be included in the result.\n",
    "\n",
    "# Fliter function to obtain the odd values in numbers\n",
    "numbers = [10, 3, 7, 1, 9, 4, 2, 8, 5, 6]\n",
    "\n",
    "def is_odd(x):\n",
    "    # Return True only if x is odd\n",
    "    return x % 2 != 0\n",
    "\n",
    "def main():\n",
    "    # odd numbers = list(fliter(is odd, numbers))\n",
    "    print(list(filter(is_odd, numbers)))\n",
    "    \n",
    "main()\n"
   ]
  },
  {
   "cell_type": "code",
   "execution_count": 11,
   "metadata": {},
   "outputs": [
    {
     "name": "stdout",
     "output_type": "stream",
     "text": [
      "[3, 7, 1, 9, 5]\n"
     ]
    }
   ],
   "source": [
    "# Using a lambda rather than a function\n",
    "# For simple function like is_odd that return only a single expression's value\n",
    "# you can use a lambda expression (or simply a lambda) to define the function\n",
    "# in line where it's needed\n",
    "\n",
    "numbers = [10, 3, 7, 1, 9, 4, 2, 8, 5, 6]\n",
    "print(list(filter(lambda x: x % 2 !=0, numbers)))"
   ]
  },
  {
   "cell_type": "code",
   "execution_count": 12,
   "metadata": {},
   "outputs": [
    {
     "name": "stdout",
     "output_type": "stream",
     "text": [
      "[100, 9, 49, 1, 81, 16, 4, 64, 25, 36]\n"
     ]
    }
   ],
   "source": [
    "# Mapping a sequence's values to New values\n",
    "# Using map function with lambda to square each values in numbers\n",
    "\n",
    "numbers = [10, 3, 7, 1, 9, 4, 2, 8, 5, 6]\n",
    "print(list(map(lambda x: x ** 2, numbers)))"
   ]
  },
  {
   "cell_type": "code",
   "execution_count": 13,
   "metadata": {},
   "outputs": [
    {
     "name": "stdout",
     "output_type": "stream",
     "text": [
      "[100, 9, 49, 1, 81, 16, 4, 64, 25, 36]\n"
     ]
    }
   ],
   "source": [
    "# Using list comprehension w/ lambda\n",
    "print([item ** 2 for item in numbers])"
   ]
  },
  {
   "cell_type": "code",
   "execution_count": 14,
   "metadata": {},
   "outputs": [
    {
     "name": "stdout",
     "output_type": "stream",
     "text": [
      "[9, 49, 1, 81, 25]\n"
     ]
    }
   ],
   "source": [
    "# Combining filter and map\n",
    "print(list(map(lambda x: x**2, filter(lambda x: x % 2 !=0, numbers))))"
   ]
  },
  {
   "cell_type": "code",
   "execution_count": 15,
   "metadata": {},
   "outputs": [
    {
     "name": "stdout",
     "output_type": "stream",
     "text": [
      "[9, 49, 1, 81, 25]\n"
     ]
    }
   ],
   "source": [
    "# Using list comprehension w/ Filter & Map\n",
    "print([x**2 for x in numbers if x % 2 !=0])"
   ]
  },
  {
   "cell_type": "code",
   "execution_count": 18,
   "metadata": {},
   "outputs": [
    {
     "name": "stdout",
     "output_type": "stream",
     "text": [
      "[(1, 'a'), (4, 'c'), (2, 'z')]\n",
      "1: a\n",
      "4: c\n",
      "2: z\n"
     ]
    }
   ],
   "source": [
    "# Zip function\n",
    "# Python zip() function creates an iterator that will aggregate elements\n",
    "# from two or more iterables\n",
    "# to retrieve the final list object, you need to use list() to consume the iterator\n",
    "\n",
    "numbers = [1, 4, 2]\n",
    "letters = ['a', 'c', 'z']\n",
    "zipped = zip(numbers, letters)\n",
    "zipped = list(zipped)\n",
    "print(zipped)\n",
    "\n",
    "for number, letter in zip(numbers, letters):\n",
    "    print(f'{number}: {letter}')"
   ]
  },
  {
   "cell_type": "code",
   "execution_count": 22,
   "metadata": {},
   "outputs": [
    {
     "name": "stdout",
     "output_type": "stream",
     "text": [
      "Index of min for numbers =  0\n",
      "Index of min for numbers =  1\n",
      "Index of min for letters =  0\n",
      "Index of min for letters =  2\n"
     ]
    }
   ],
   "source": [
    "# Index method with min/max function\n",
    "\n",
    "print('Index of min for numbers = ', numbers.index(min(numbers)))\n",
    "print('Index of min for numbers = ', numbers.index(max(numbers)))\n",
    "\n",
    "print('Index of min for letters = ', letters.index(min(letters)))\n",
    "print('Index of min for letters = ', letters.index(max(letters)))"
   ]
  },
  {
   "cell_type": "code",
   "execution_count": null,
   "metadata": {},
   "outputs": [],
   "source": []
  }
 ],
 "metadata": {
  "kernelspec": {
   "display_name": "Python 3",
   "language": "python",
   "name": "python3"
  },
  "language_info": {
   "codemirror_mode": {
    "name": "ipython",
    "version": 3
   },
   "file_extension": ".py",
   "mimetype": "text/x-python",
   "name": "python",
   "nbconvert_exporter": "python",
   "pygments_lexer": "ipython3",
   "version": "3.7.5"
  }
 },
 "nbformat": 4,
 "nbformat_minor": 2
}
