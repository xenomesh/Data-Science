{
 "cells": [
  {
   "cell_type": "code",
   "execution_count": 6,
   "metadata": {},
   "outputs": [
    {
     "name": "stdout",
     "output_type": "stream",
     "text": [
      "1 appears 3 times in responses\n",
      "2 appears 5 times in responses\n",
      "3 appears 7 times in responses\n",
      "4 appears 3 times in responses\n",
      "5 appears 2 times in responses\n"
     ]
    }
   ],
   "source": [
    "# Counting the number of Occurrenences of an item\n",
    "response = [1,2,5,4,3,5,2,1,3,4,1,4,3,3,3,2,3,3,2,2]\n",
    "\n",
    "for i in range(1,6):\n",
    "    print(f'{i} appears {response.count(i)} times in responses')"
   ]
  },
  {
   "cell_type": "code",
   "execution_count": 9,
   "metadata": {},
   "outputs": [
    {
     "name": "stdout",
     "output_type": "stream",
     "text": [
      "['red', 'green', 'blue']\n",
      "['red', 'green', 'blue', 'yellow', 'white']\n",
      "['red', 'green', 'yellow', 'white']\n",
      "['red', 'green', 'yellow']\n",
      "[]\n"
     ]
    }
   ],
   "source": [
    "# To test extend, pop, and clear methods\n",
    "# Extend: additional elements added to the list\n",
    "# Pop: remove a specific element at a specified postion\n",
    "# Clear: removes all elements in a list.\n",
    "color_names = ['red','green','blue']\n",
    "print(color_names)\n",
    "color_names.extend(['yellow','white'])\n",
    "print(color_names)\n",
    "color_names.pop(2)\n",
    "print(color_names)\n",
    "color_names.pop()\n",
    "print(color_names)s\n",
    "color_names.clear()\n",
    "print(color_names)"
   ]
  },
  {
   "cell_type": "code",
   "execution_count": 13,
   "metadata": {},
   "outputs": [
    {
     "name": "stdout",
     "output_type": "stream",
     "text": [
      "['First']\n",
      "['First', 'Last']\n",
      "['First']\n",
      "[]\n"
     ]
    }
   ],
   "source": [
    "# Simulating Stack with lists\n",
    "# Create an empty list called Stack, push(append) two strings onto it,\n",
    "# then pop the strings to confirm they retrieved in last-in,\n",
    "# last-in First-out (LIFO)\n",
    "\n",
    "stack = []\n",
    "stack.append('First')\n",
    "print(stack)\n",
    "stack.append('Last')\n",
    "print(stack)\n",
    "stack.pop()\n",
    "print(stack)\n",
    "stack.pop()\n",
    "print(stack)"
   ]
  },
  {
   "cell_type": "code",
   "execution_count": 14,
   "metadata": {},
   "outputs": [
    {
     "name": "stdout",
     "output_type": "stream",
     "text": [
      "[]\n",
      "['First']\n",
      "['First', 'Second']\n",
      "['First']\n",
      "[]\n"
     ]
    }
   ],
   "source": [
    "# To implement Stack by using list\n",
    "\n",
    "stack = []\n",
    "print(stack)\n",
    "stack.append('First')\n",
    "print(stack)\n",
    "stack.append('Second')\n",
    "print(stack)\n",
    "stack.pop()\n",
    "print(stack)\n",
    "stack.pop()\n",
    "print(stack)"
   ]
  }
 ],
 "metadata": {
  "kernelspec": {
   "display_name": "Python 3",
   "language": "python",
   "name": "python3"
  },
  "language_info": {
   "codemirror_mode": {
    "name": "ipython",
    "version": 3
   },
   "file_extension": ".py",
   "mimetype": "text/x-python",
   "name": "python",
   "nbconvert_exporter": "python",
   "pygments_lexer": "ipython3",
   "version": "3.8.3"
  }
 },
 "nbformat": 4,
 "nbformat_minor": 4
}
