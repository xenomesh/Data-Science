{
 "cells": [
  {
   "cell_type": "code",
   "execution_count": 1,
   "metadata": {},
   "outputs": [],
   "source": [
    "# Problem 1\n",
    "# Use regular expressions and the findall function \n",
    "# to count the number of digits, non-digit characters,\n",
    "# whitespace characters and words in a string\n",
    "# string = 'this string contains words and 1234567890'"
   ]
  },
  {
   "cell_type": "code",
   "execution_count": 37,
   "metadata": {},
   "outputs": [
    {
     "name": "stdout",
     "output_type": "stream",
     "text": [
      "Digits =  ['1', '2', '3', '4', '5', '6', '7', '8', '9', '0']\n",
      "The number of digits is 10\n"
     ]
    }
   ],
   "source": [
    "import re\n",
    "string = 'this string contains words and 1234567890'\n",
    "digits = re.findall(r'\\d', string)\n",
    "print('Digits = ',digits)\n",
    "print('The number of digits is 10')"
   ]
  },
  {
   "cell_type": "code",
   "execution_count": 36,
   "metadata": {},
   "outputs": [
    {
     "name": "stdout",
     "output_type": "stream",
     "text": [
      "Non-Digit Characters =  ['t', 'h', 'i', 's', ' ', 's', 't', 'r', 'i', 'n', 'g', ' ', 'c', 'o', 'n', 't', 'a', 'i', 'n', 's', ' ', 'w', 'o', 'r', 'd', 's', ' ', 'a', 'n', 'd', ' ']\n",
      "The number of non-digit characters is 31\n"
     ]
    }
   ],
   "source": [
    "string = 'this string contains words and 1234567890'\n",
    "nondigit = re.findall(r'\\D', string)\n",
    "print('Non-Digit Characters = ',nondigit)\n",
    "print('The number of non-digit characters is 31')"
   ]
  },
  {
   "cell_type": "code",
   "execution_count": 34,
   "metadata": {},
   "outputs": [
    {
     "name": "stdout",
     "output_type": "stream",
     "text": [
      "Whitespace Characters =  [' ', ' ', ' ', ' ', ' ']\n",
      "The number of whitespace characters is 5\n"
     ]
    }
   ],
   "source": [
    "string = 'this string contains words and 1234567890'\n",
    "whitespc = re.findall(r'\\s', string)\n",
    "print('Whitespace Characters = ',whitespc)\n",
    "print('The number of whitespace characters is 5')"
   ]
  },
  {
   "cell_type": "code",
   "execution_count": 35,
   "metadata": {},
   "outputs": [
    {
     "name": "stdout",
     "output_type": "stream",
     "text": [
      "Words =  ['this', 'string', 'contains', 'words', 'and', '1234567890']\n",
      "The number of words is 6\n"
     ]
    }
   ],
   "source": [
    "string = 'this string contains words and 1234567890'\n",
    "words = re.findall(r'\\w+', string)\n",
    "print('Words = ',words)\n",
    "print('The number of words is 6')"
   ]
  },
  {
   "cell_type": "code",
   "execution_count": 28,
   "metadata": {},
   "outputs": [
    {
     "name": "stdout",
     "output_type": "stream",
     "text": [
      "Digits =  ['1', '2', '3', '4', '5', '6', '7', '8', '9', '0']\n"
     ]
    }
   ],
   "source": [
    "def getNumbers(digits):\n",
    "    array = re.findall(r'\\d{1}', digits)\n",
    "    return array\n",
    "\n",
    "digits = '1234567890'\n",
    "array = getNumbers(digits)\n",
    "print('Digits = ', array)"
   ]
  },
  {
   "cell_type": "code",
   "execution_count": 96,
   "metadata": {},
   "outputs": [
    {
     "data": {
      "text/plain": [
       "['http://www.deitel.com', 'http://www.pearson.com']"
      ]
     },
     "execution_count": 96,
     "metadata": {},
     "output_type": "execute_result"
    }
   ],
   "source": [
    "# Problem 2\n",
    "text = \"\"\"Our web address is http://www.deitel.com and Pearson\"s web address is http://www.pearson.com, but http://www.fake.c is not a valid URL\"\"\"\n",
    "re.findall('http[s]?.//[www]?.\\w+.\\w+\\.com', text)"
   ]
  }
 ],
 "metadata": {
  "kernelspec": {
   "display_name": "Python 3",
   "language": "python",
   "name": "python3"
  },
  "language_info": {
   "codemirror_mode": {
    "name": "ipython",
    "version": 3
   },
   "file_extension": ".py",
   "mimetype": "text/x-python",
   "name": "python",
   "nbconvert_exporter": "python",
   "pygments_lexer": "ipython3",
   "version": "3.8.3"
  }
 },
 "nbformat": 4,
 "nbformat_minor": 4
}
