{
 "cells": [
  {
   "cell_type": "code",
   "execution_count": 1,
   "metadata": {},
   "outputs": [],
   "source": [
    "# Problem 1\n",
    "\n",
    "# Create and test a regular expression that matches a street address \n",
    "# consisting of a number with one or more digits followed by two words\n",
    "# of one or more character each. Ensure that two words begin with an\n",
    "# uppercase letter followed by any number of lowercase letters. \n",
    "# The tokens should be separated by one space each, as 123 Main Street."
   ]
  },
  {
   "cell_type": "code",
   "execution_count": 2,
   "metadata": {},
   "outputs": [],
   "source": [
    "# Test the following address\n",
    "# 123 Main Street : Match\n",
    "# 816 S Michigan : Match\n",
    "# 816 S. Michigan : No Match\n",
    "# Main Street : No Match"
   ]
  },
  {
   "cell_type": "code",
   "execution_count": 3,
   "metadata": {},
   "outputs": [
    {
     "data": {
      "text/plain": [
       "'Match'"
      ]
     },
     "execution_count": 3,
     "metadata": {},
     "output_type": "execute_result"
    }
   ],
   "source": [
    "import re\n",
    "street = r'\\d+ [A-Z][a-z]* [A-Z][a-z]*'\n",
    "'Match' if re.fullmatch(street, '123 Main Street') else 'No Match'"
   ]
  },
  {
   "cell_type": "code",
   "execution_count": 4,
   "metadata": {},
   "outputs": [],
   "source": [
    "# Modify RE for prob 1 to match"
   ]
  },
  {
   "cell_type": "code",
   "execution_count": 5,
   "metadata": {},
   "outputs": [
    {
     "data": {
      "text/plain": [
       "'No Match'"
      ]
     },
     "execution_count": 5,
     "metadata": {},
     "output_type": "execute_result"
    }
   ],
   "source": [
    "street2 = r'\\d+ [A-Z][a-z]* [A-Z][a-z]*'\n",
    "'Match' if re.fullmatch(street2, '123 S. Michigan') else 'No Match'"
   ]
  },
  {
   "cell_type": "code",
   "execution_count": 6,
   "metadata": {},
   "outputs": [],
   "source": [
    "# Use RE and split function for the string at one or more adjacent $ char"
   ]
  },
  {
   "cell_type": "code",
   "execution_count": 7,
   "metadata": {},
   "outputs": [
    {
     "data": {
      "text/plain": [
       "['123', 'Main', 'Street']"
      ]
     },
     "execution_count": 7,
     "metadata": {},
     "output_type": "execute_result"
    }
   ],
   "source": [
    "re.split('\\$+', '123$Main$$Street')"
   ]
  },
  {
   "cell_type": "code",
   "execution_count": 8,
   "metadata": {},
   "outputs": [],
   "source": [
    "# Problem 2\n",
    "\n",
    "# Use regular expressions and the findall function to count \n",
    "# the number of digits, non-digit characters, whitespace characters\n",
    "# and words in a string"
   ]
  },
  {
   "cell_type": "code",
   "execution_count": 9,
   "metadata": {},
   "outputs": [
    {
     "name": "stdout",
     "output_type": "stream",
     "text": [
      "Digits =  ['1', '2', '3', '4', '5', '6', '7', '8', '9', '0']\n"
     ]
    }
   ],
   "source": [
    "import re\n",
    "string = 'this string contains words and 1234567890'\n",
    "digits = re.findall(r'\\d', string)\n",
    "print('Digits = ', digits)"
   ]
  },
  {
   "cell_type": "code",
   "execution_count": 10,
   "metadata": {},
   "outputs": [
    {
     "name": "stdout",
     "output_type": "stream",
     "text": [
      "The number of digits is  10\n"
     ]
    }
   ],
   "source": [
    "print('The number of digits is ', len(digits))"
   ]
  },
  {
   "cell_type": "code",
   "execution_count": 11,
   "metadata": {},
   "outputs": [],
   "source": [
    "# Non-digit Characters"
   ]
  },
  {
   "cell_type": "code",
   "execution_count": 12,
   "metadata": {},
   "outputs": [
    {
     "name": "stdout",
     "output_type": "stream",
     "text": [
      "Non-Digit Characters =  ['t', 'h', 'i', 's', ' ', 's', 't', 'r', 'i', 'n', 'g', ' ', 'c', 'o', 'n', 't', 'a', 'i', 'n', 's', ' ', 'w', 'o', 'r', 'd', 's', ' ', 'a', 'n', 'd', ' ']\n"
     ]
    }
   ],
   "source": [
    "non_digits = re.findall(r'\\D', string)\n",
    "print('Non-Digit Characters = ', non_digits)"
   ]
  },
  {
   "cell_type": "code",
   "execution_count": 13,
   "metadata": {},
   "outputs": [
    {
     "name": "stdout",
     "output_type": "stream",
     "text": [
      "The number of non-digit characters is  31\n"
     ]
    }
   ],
   "source": [
    "print('The number of non-digit characters is ', len(non_digits))"
   ]
  },
  {
   "cell_type": "code",
   "execution_count": 14,
   "metadata": {},
   "outputs": [],
   "source": [
    "# Whitespace Characters"
   ]
  },
  {
   "cell_type": "code",
   "execution_count": 15,
   "metadata": {},
   "outputs": [
    {
     "name": "stdout",
     "output_type": "stream",
     "text": [
      "Whitespace Characters =  [' ', ' ', ' ', ' ', ' ']\n"
     ]
    }
   ],
   "source": [
    "whitespace = re.findall(r'\\s', string)\n",
    "print('Whitespace Characters = ', whitespace)"
   ]
  },
  {
   "cell_type": "code",
   "execution_count": 16,
   "metadata": {},
   "outputs": [
    {
     "name": "stdout",
     "output_type": "stream",
     "text": [
      "The numbers of whitespace characters is  5\n"
     ]
    }
   ],
   "source": [
    "print('The numbers of whitespace characters is ', len(whitespace))"
   ]
  },
  {
   "cell_type": "code",
   "execution_count": 18,
   "metadata": {},
   "outputs": [
    {
     "name": "stdout",
     "output_type": "stream",
     "text": [
      "Words =  ['this', 'string', 'contains', 'words', 'and', '1234567890']\n"
     ]
    }
   ],
   "source": [
    "# Find all Words\n",
    "words = re.findall(r'\\w+', string)\n",
    "print('Words = ', words )"
   ]
  },
  {
   "cell_type": "code",
   "execution_count": 19,
   "metadata": {},
   "outputs": [
    {
     "name": "stdout",
     "output_type": "stream",
     "text": [
      "The number of words is  6\n"
     ]
    }
   ],
   "source": [
    "print('The number of words is ', len(words))"
   ]
  },
  {
   "cell_type": "code",
   "execution_count": 20,
   "metadata": {},
   "outputs": [],
   "source": [
    "# Problem 3\n",
    "#Use a regular expression to search through a string and to locate all valid URLs. \n",
    "# For this exercise, assume that a valid URL has the form\n",
    "# http://www.domain_name.extension, where extension must be two or \n",
    "# more characters.\n",
    "# Search the following text:\n",
    "# text = \"\"\"Our web address is http://www.deitel.com and \n",
    "# Pearson's web address is http://www.pearson.com, \n",
    "# but http://www.fake.c is not a valid URL\"\"\""
   ]
  },
  {
   "cell_type": "code",
   "execution_count": 21,
   "metadata": {},
   "outputs": [
    {
     "data": {
      "text/plain": [
       "['http://www.deitel.com', 'http://www.pearson.com']"
      ]
     },
     "execution_count": 21,
     "metadata": {},
     "output_type": "execute_result"
    }
   ],
   "source": [
    "import re\n",
    "text = \"\"\"\"\"Our web address is http://www.deitel.com and \n",
    "Pearson's web address is http://www.pearson.com, \n",
    "but http://www.fake.c is not a valid URL\"\"\"\n",
    "\n",
    "urls = re.findall(r'http://www\\.\\w+\\.[a-z]{2,}', text)\n",
    "urls"
   ]
  },
  {
   "cell_type": "code",
   "execution_count": null,
   "metadata": {},
   "outputs": [],
   "source": [
    "# Look at Lecture notes for:\n",
    "# 3-8-2021(9.5 Serialization with JSON)\n",
    "# 3-17-2021"
   ]
  }
 ],
 "metadata": {
  "kernelspec": {
   "display_name": "Python 3",
   "language": "python",
   "name": "python3"
  },
  "language_info": {
   "codemirror_mode": {
    "name": "ipython",
    "version": 3
   },
   "file_extension": ".py",
   "mimetype": "text/x-python",
   "name": "python",
   "nbconvert_exporter": "python",
   "pygments_lexer": "ipython3",
   "version": "3.8.3"
  }
 },
 "nbformat": 4,
 "nbformat_minor": 4
}
