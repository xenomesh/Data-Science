{
 "cells": [
  {
   "cell_type": "code",
   "execution_count": 4,
   "metadata": {},
   "outputs": [
    {
     "name": "stdout",
     "output_type": "stream",
     "text": [
      "Mean = 3.50\n",
      "Values = [6.25, 0.25, 0.25, 2.25, 6.25, 2.25, 0.25, 0.25, 2.25, 2.25]\n",
      "Variance = 2.25\n",
      "Standard Deviation = 1.50\n"
     ]
    }
   ],
   "source": [
    "# How to caluclate the variance and standard Deviation\n",
    "\n",
    "import statistics as stats\n",
    "import math\n",
    "values = [1,3,4,2,6,5,3,4,5,2]\n",
    "\n",
    "# Calculate the mean of values\n",
    "print(f'Mean = {stats.mean(values):.2f}')\n",
    "\n",
    "# Subtract the mean from every value\n",
    "# Square each of values\n",
    "\n",
    "values = [pow((1-3.5),2), pow((3-3.5),2), pow((4-3.5),2), pow((2-3.5),2), \\\n",
    "         pow((6-3.5),2), pow((5-3.5),2), pow((3-3.5),2),pow((4-3.5),2), \\\n",
    "         pow((5-3.5),2), pow((2-3.5),2)]\n",
    "print(f'Values = {values}')\n",
    "\n",
    "# Calculate the mean of these squares : Variance\n",
    "print(f'Variance = {stats.mean(values):.2f}')\n",
    "\n",
    "# Calculate the square root of the variance : Standard Deviation\n",
    "print(f'Standard Deviation = {math.sqrt(stats.mean(values)):.2f}')"
   ]
  },
  {
   "cell_type": "code",
   "execution_count": 5,
   "metadata": {},
   "outputs": [
    {
     "name": "stdout",
     "output_type": "stream",
     "text": [
      "Population Variance = 2.25\n",
      "Population Standard Deviation = 1.50\n"
     ]
    }
   ],
   "source": [
    "# Population Variance and Population Standard Deviation\n",
    "\n",
    "import statistics as stats\n",
    "\n",
    "values = [1,3,4,2,6,5,3,4,5,2]\n",
    "\n",
    "print(f'Population Variance = {stats.pvariance(values)}')\n",
    "print(f'Population Standard Deviation = {stats.pstdev(values):.2f}')\n"
   ]
  },
  {
   "cell_type": "code",
   "execution_count": 7,
   "metadata": {},
   "outputs": [
    {
     "name": "stdout",
     "output_type": "stream",
     "text": [
      "Guess a number between 1 and 1000\n",
      "Guess (1-1000)400\n",
      "400 is too low. Try again\n",
      "Guess (1-1000)500\n",
      "500 is too high. Try again\n",
      "Guess (1-1000)450\n",
      "450 is too high. Try again\n",
      "Guess (1-1000)430\n",
      "Congratulation. You guessed the number!\n",
      "\n",
      "Play again (yes or no)?no\n",
      "Thanks for Playing!\n"
     ]
    }
   ],
   "source": [
    "# Exercise 4.11\n",
    "\n",
    "import random\n",
    "\n",
    "def main():\n",
    "    game_over = False\n",
    "    \n",
    "    while not game_over:\n",
    "        \n",
    "        # Create a new number to guess\n",
    "        answer = random.randrange(1,1001)\n",
    "        \n",
    "        print(\"Guess a number between 1 and 1000\")\n",
    "        \n",
    "        correct = False\n",
    "        \n",
    "        while not correct:\n",
    "            guess = int(input(\"Guess (1-1000)\"))\n",
    "            \n",
    "            if (guess < answer):\n",
    "                print(f'{guess} is too low. Try again')\n",
    "            elif (guess > answer):\n",
    "                print(f'{guess} is too high. Try again')\n",
    "            else:\n",
    "                correct = True\n",
    "                print(\"Congratulation. You guessed the number!\")\n",
    "                print()\n",
    "            \n",
    "        play_again = input(\"Play again (yes or no)?\")\n",
    "        \n",
    "        if play_again == 'no':\n",
    "            game_over = True\n",
    "main()\n",
    "\n",
    "print(\"Thanks for Playing!\")\n",
    "            "
   ]
  }
 ],
 "metadata": {
  "kernelspec": {
   "display_name": "Python 3",
   "language": "python",
   "name": "python3"
  },
  "language_info": {
   "codemirror_mode": {
    "name": "ipython",
    "version": 3
   },
   "file_extension": ".py",
   "mimetype": "text/x-python",
   "name": "python",
   "nbconvert_exporter": "python",
   "pygments_lexer": "ipython3",
   "version": "3.8.3"
  }
 },
 "nbformat": 4,
 "nbformat_minor": 4
}
