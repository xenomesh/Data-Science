{
 "cells": [
  {
   "cell_type": "code",
   "execution_count": null,
   "metadata": {},
   "outputs": [],
   "source": [
    "#Lecture # 1 - 10/11/2021"
   ]
  },
  {
   "cell_type": "code",
   "execution_count": 2,
   "metadata": {},
   "outputs": [
    {
     "name": "stdout",
     "output_type": "stream",
     "text": [
      "17.49\n"
     ]
    }
   ],
   "source": [
    "# Format Strings\n",
    "# Format the float value 17.489\n",
    "# rounded to the hundrendth position\n",
    "print(f'{17.489:.2f}')"
   ]
  },
  {
   "cell_type": "code",
   "execution_count": 3,
   "metadata": {},
   "outputs": [
    {
     "name": "stdout",
     "output_type": "stream",
     "text": [
      "10\n"
     ]
    }
   ],
   "source": [
    "print(f'{10:d}')"
   ]
  },
  {
   "cell_type": "code",
   "execution_count": 4,
   "metadata": {},
   "outputs": [
    {
     "name": "stdout",
     "output_type": "stream",
     "text": [
      "A a\n",
      ":-)\n"
     ]
    }
   ],
   "source": [
    "# Characters\n",
    "# The c presentation type format an interger character code as the corresponding character\n",
    "print(f'{65:c} {97:c}')\n",
    "print(f'{58:c}{45:c}{41:c}')"
   ]
  },
  {
   "cell_type": "code",
   "execution_count": 5,
   "metadata": {},
   "outputs": [
    {
     "name": "stdout",
     "output_type": "stream",
     "text": [
      "hello 7\n"
     ]
    }
   ],
   "source": [
    "# Strings\n",
    "# The s presentation type is the default\n",
    "print(f'{\"hello\":s} {7}')"
   ]
  },
  {
   "cell_type": "code",
   "execution_count": 6,
   "metadata": {},
   "outputs": [
    {
     "name": "stdout",
     "output_type": "stream",
     "text": [
      "[        27]\n"
     ]
    }
   ],
   "source": [
    "# Field Widths and Alignment\n",
    "# By default, Python right-aligns numbers and left-aligns other vaules such as strings\n",
    "print(f'[{27:10d}]')"
   ]
  },
  {
   "cell_type": "code",
   "execution_count": 7,
   "metadata": {},
   "outputs": [
    {
     "name": "stdout",
     "output_type": "stream",
     "text": [
      "[  3.500000]\n"
     ]
    }
   ],
   "source": [
    "# Python formats float values with six digits of precision\n",
    "# to the right of the decimal point by default\n",
    "print(f'[{3.5:10f}]')"
   ]
  },
  {
   "cell_type": "code",
   "execution_count": 8,
   "metadata": {},
   "outputs": [
    {
     "name": "stdout",
     "output_type": "stream",
     "text": [
      "[3.500000]\n"
     ]
    }
   ],
   "source": [
    "print(f'[{3.5:2f}]')"
   ]
  },
  {
   "cell_type": "code",
   "execution_count": 9,
   "metadata": {},
   "outputs": [
    {
     "name": "stdout",
     "output_type": "stream",
     "text": [
      "[hello     ]\n"
     ]
    }
   ],
   "source": [
    "print(f'[{\"hello\":10}]')"
   ]
  },
  {
   "cell_type": "code",
   "execution_count": 10,
   "metadata": {},
   "outputs": [
    {
     "name": "stdout",
     "output_type": "stream",
     "text": [
      "[27             ]\n"
     ]
    }
   ],
   "source": [
    "# Explicitity specifying left and right alignment in a field\n",
    "# <(left-allgn) > (right-align)\n",
    "print(f'[{27:<15d}]')"
   ]
  },
  {
   "cell_type": "code",
   "execution_count": 11,
   "metadata": {},
   "outputs": [
    {
     "name": "stdout",
     "output_type": "stream",
     "text": [
      "[       3.500000]\n"
     ]
    }
   ],
   "source": [
    "print(f'[{3.5:>15f}]')"
   ]
  },
  {
   "cell_type": "code",
   "execution_count": 12,
   "metadata": {},
   "outputs": [
    {
     "name": "stdout",
     "output_type": "stream",
     "text": [
      "[          hello]\n"
     ]
    }
   ],
   "source": [
    "print(f'[{\"hello\":>15}]')"
   ]
  },
  {
   "cell_type": "code",
   "execution_count": 13,
   "metadata": {},
   "outputs": [
    {
     "name": "stdout",
     "output_type": "stream",
     "text": [
      "[  27   ]\n"
     ]
    }
   ],
   "source": [
    "# Centering a value in a field\n",
    "print(f'[{27:^7d}]')"
   ]
  },
  {
   "cell_type": "code",
   "execution_count": 14,
   "metadata": {},
   "outputs": [
    {
     "name": "stdout",
     "output_type": "stream",
     "text": [
      "[  3.5  ]\n"
     ]
    }
   ],
   "source": [
    "print(f'[{3.5:^7.1f}]')"
   ]
  },
  {
   "cell_type": "code",
   "execution_count": 16,
   "metadata": {},
   "outputs": [
    {
     "name": "stdout",
     "output_type": "stream",
     "text": [
      "[ Hello ]\n"
     ]
    }
   ],
   "source": [
    "print(f'[{\"Hello\":^7}]')"
   ]
  },
  {
   "cell_type": "code",
   "execution_count": null,
   "metadata": {},
   "outputs": [],
   "source": [
    "# Lecture #2 - 11/13/2020\n",
    "#More formattting for decimals"
   ]
  },
  {
   "cell_type": "code",
   "execution_count": 20,
   "metadata": {},
   "outputs": [
    {
     "name": "stdout",
     "output_type": "stream",
     "text": [
      "[       +27]\n"
     ]
    }
   ],
   "source": [
    "print(f'[{27:+10d}]')"
   ]
  },
  {
   "cell_type": "code",
   "execution_count": 21,
   "metadata": {},
   "outputs": [
    {
     "name": "stdout",
     "output_type": "stream",
     "text": [
      "[+000000027]\n"
     ]
    }
   ],
   "source": [
    "print(f'[{27:+010d}]')"
   ]
  },
  {
   "cell_type": "code",
   "execution_count": 24,
   "metadata": {},
   "outputs": [
    {
     "name": "stdout",
     "output_type": "stream",
     "text": [
      "12,345,678          \n"
     ]
    }
   ],
   "source": [
    "print(f'{12345678:<20,d}')"
   ]
  },
  {
   "cell_type": "code",
   "execution_count": 26,
   "metadata": {},
   "outputs": [
    {
     "name": "stdout",
     "output_type": "stream",
     "text": [
      "1,234,567.89        \n"
     ]
    }
   ],
   "source": [
    "#Grouping Digits\n",
    "print(f'{1234567.89:<20,.2f}')"
   ]
  },
  {
   "cell_type": "code",
   "execution_count": 27,
   "metadata": {},
   "outputs": [
    {
     "name": "stdout",
     "output_type": "stream",
     "text": [
      "17.49\n"
     ]
    }
   ],
   "source": [
    "#String Format Method\n",
    "#Format the float value 17.489 rounded to the hundrendths\n",
    "print('{:.2f}'.format(17.489))"
   ]
  },
  {
   "cell_type": "code",
   "execution_count": 35,
   "metadata": {},
   "outputs": [
    {
     "name": "stdout",
     "output_type": "stream",
     "text": [
      "Alejandro Blancas\n"
     ]
    }
   ],
   "source": [
    "# Multiple Placeholders\n",
    "print('{} {}'.format(\"Alejandro\", \"Blancas\"))"
   ]
  },
  {
   "cell_type": "code",
   "execution_count": 37,
   "metadata": {},
   "outputs": [
    {
     "name": "stdout",
     "output_type": "stream",
     "text": [
      "Alejandro Alejandro Blancas\n"
     ]
    }
   ],
   "source": [
    "print('{0} {0} {1}'.format(\"Alejandro\", \"Blancas\"))"
   ]
  },
  {
   "cell_type": "code",
   "execution_count": 40,
   "metadata": {},
   "outputs": [
    {
     "name": "stdout",
     "output_type": "stream",
     "text": [
      "Blancas, Alejandro\n"
     ]
    }
   ],
   "source": [
    "print('{last}, {first}'.format(first = 'Alejandro', last = 'Blancas'))"
   ]
  },
  {
   "cell_type": "code",
   "execution_count": 41,
   "metadata": {},
   "outputs": [
    {
     "name": "stdout",
     "output_type": "stream",
     "text": [
      "Alejandro Blancas\n"
     ]
    }
   ],
   "source": [
    "print('{first} {last}'.format(first = 'Alejandro', last = 'Blancas'))"
   ]
  },
  {
   "cell_type": "code",
   "execution_count": null,
   "metadata": {},
   "outputs": [],
   "source": []
  }
 ],
 "metadata": {
  "kernelspec": {
   "display_name": "Python 3",
   "language": "python",
   "name": "python3"
  },
  "language_info": {
   "codemirror_mode": {
    "name": "ipython",
    "version": 3
   },
   "file_extension": ".py",
   "mimetype": "text/x-python",
   "name": "python",
   "nbconvert_exporter": "python",
   "pygments_lexer": "ipython3",
   "version": "3.8.3"
  }
 },
 "nbformat": 4,
 "nbformat_minor": 4
}
