{
 "cells": [
  {
   "cell_type": "code",
   "execution_count": 1,
   "metadata": {},
   "outputs": [],
   "source": [
    "#lab 01 - Formatting Strings (f-string)\n",
    "#Name: Alejandro Blancas\n",
    "#Date: 1/13/2021"
   ]
  },
  {
   "cell_type": "code",
   "execution_count": 5,
   "metadata": {},
   "outputs": [
    {
     "name": "stdout",
     "output_type": "stream",
     "text": [
      "[     CI328]\n",
      "[CI328     ]\n",
      "[  CI328   ]\n"
     ]
    }
   ],
   "source": [
    "#Part 1\n",
    "#Display on seperate lines (Right, Center, Left-aligned)\n",
    "print(f'[{\"CI328\":>10}]')\n",
    "print(f'[{\"CI328\":<10}]')\n",
    "print(f'[{\"CI328\":^10}]')"
   ]
  },
  {
   "cell_type": "code",
   "execution_count": 13,
   "metadata": {},
   "outputs": [
    {
     "name": "stdout",
     "output_type": "stream",
     "text": [
      "+10,240.47\n",
      " -3,210.95\n"
     ]
    }
   ],
   "source": [
    "#Part 2\n",
    "#Print values 10240.473 & -3210.9521, each preceded\n",
    "#by its sign, in 10 character fields w/ thousands separator\n",
    "#decimals points aligned veritcally and two digits of precision\n",
    "\n",
    "print(f'{10240.473:+10,.2f}')\n",
    "print(f'{-3210.9521:10,.2f}')"
   ]
  },
  {
   "cell_type": "code",
   "execution_count": 24,
   "metadata": {},
   "outputs": [
    {
     "name": "stdout",
     "output_type": "stream",
     "text": [
      "[     CI328]\n",
      "[CI328     ]\n",
      "[  CI328   ]\n",
      "----------------\n",
      "+10,240.47\n",
      " -3,210.95\n"
     ]
    }
   ],
   "source": [
    "#Part 3\n",
    "#String Method Format\n",
    "print('[{:>10}]'.format(\"CI328\"))\n",
    "print('[{:<10}]'.format(\"CI328\"))\n",
    "print('[{:^10}]'.format(\"CI328\"))\n",
    "print('----------------')\n",
    "\n",
    "print('{:+10,.2f}'.format(10240.473))\n",
    "print('{:10,.2f}'.format(-3210.9521))"
   ]
  }
 ],
 "metadata": {
  "kernelspec": {
   "display_name": "Python 3",
   "language": "python",
   "name": "python3"
  },
  "language_info": {
   "codemirror_mode": {
    "name": "ipython",
    "version": 3
   },
   "file_extension": ".py",
   "mimetype": "text/x-python",
   "name": "python",
   "nbconvert_exporter": "python",
   "pygments_lexer": "ipython3",
   "version": "3.8.3"
  }
 },
 "nbformat": 4,
 "nbformat_minor": 4
}
