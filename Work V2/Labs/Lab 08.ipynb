{
 "cells": [
  {
   "cell_type": "code",
   "execution_count": 1,
   "metadata": {},
   "outputs": [],
   "source": [
    "# Problem 1\n",
    "with open('grades.txt', mode = 'w') as grades:\n",
    "    grades.write('1 Red 98 A\\n')\n",
    "    grades.write('2 Green 83 B\\n')\n",
    "    grades.write('3 White 100 A\\n')"
   ]
  },
  {
   "cell_type": "code",
   "execution_count": 2,
   "metadata": {},
   "outputs": [
    {
     "name": "stdout",
     "output_type": "stream",
     "text": [
      "ID        Name           Score     Grade\n",
      "1         Red               98         A\n",
      "2         Green             83         B\n",
      "3         White            100         A\n"
     ]
    }
   ],
   "source": [
    "# Problem 2\n",
    "with open('grades.txt', mode = 'r') as grades:\n",
    "    print(f'{\"ID\":<10}{\"Name\":<10}{\"Score\":>10}{\"Grade\":>10}')\n",
    "    for record in grades:\n",
    "        id, name, score, grade = record.split()\n",
    "        print(f'{id:<10}{name:<10}{score:>10}{grade:>10}')"
   ]
  },
  {
   "cell_type": "code",
   "execution_count": 12,
   "metadata": {},
   "outputs": [],
   "source": [
    "# Problem 3\n",
    "grades = open('grades.txt', 'r')\n",
    "temp_grade = open('temp_grade.txt', 'w')\n",
    "\n",
    "with grades, temp_grade:\n",
    "    for record in grades:\n",
    "        id, name, score, grade = record.split()\n",
    "        if  score != '83':\n",
    "            temp_grade.write(record)\n",
    "        else:\n",
    "            new_record = ' '.join([id, name, '70', 'C'])\n",
    "            temp_grade.write(new_record + '\\n')"
   ]
  },
  {
   "cell_type": "code",
   "execution_count": 13,
   "metadata": {},
   "outputs": [],
   "source": [
    "# Problem 4\n",
    "grades_dict = {'gradebook': [{'student_id':1,'name':'Red','score':'98','grade':'A'},\n",
    "                            {'student_id':2,'name':'Green','score':'83','grade':'B'},\n",
    "                            {'student_id':3,'name':'White','score':'100','grade':'A'}]}"
   ]
  },
  {
   "cell_type": "code",
   "execution_count": 15,
   "metadata": {},
   "outputs": [],
   "source": [
    "import json\n",
    "with open('grades.json', 'w') as grades:\n",
    "    json.dump(grades_dict, grades)"
   ]
  },
  {
   "cell_type": "code",
   "execution_count": 16,
   "metadata": {},
   "outputs": [
    {
     "name": "stdout",
     "output_type": "stream",
     "text": [
      "{\n",
      "    \"gradebook\": [\n",
      "        {\n",
      "            \"student_id\": 1,\n",
      "            \"name\": \"Red\",\n",
      "            \"score\": \"98\",\n",
      "            \"grade\": \"A\"\n",
      "        },\n",
      "        {\n",
      "            \"student_id\": 2,\n",
      "            \"name\": \"Green\",\n",
      "            \"score\": \"83\",\n",
      "            \"grade\": \"B\"\n",
      "        },\n",
      "        {\n",
      "            \"student_id\": 3,\n",
      "            \"name\": \"White\",\n",
      "            \"score\": \"100\",\n",
      "            \"grade\": \"A\"\n",
      "        }\n",
      "    ]\n",
      "}\n"
     ]
    }
   ],
   "source": [
    "# Problem 5\n",
    "with open('grades.json', 'r') as grades:\n",
    "    print(json.dumps(json.load(grades), indent = 4))"
   ]
  }
 ],
 "metadata": {
  "kernelspec": {
   "display_name": "Python 3",
   "language": "python",
   "name": "python3"
  },
  "language_info": {
   "codemirror_mode": {
    "name": "ipython",
    "version": 3
   },
   "file_extension": ".py",
   "mimetype": "text/x-python",
   "name": "python",
   "nbconvert_exporter": "python",
   "pygments_lexer": "ipython3",
   "version": "3.8.3"
  }
 },
 "nbformat": 4,
 "nbformat_minor": 4
}
