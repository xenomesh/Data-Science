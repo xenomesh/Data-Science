{
 "cells": [
  {
   "cell_type": "code",
   "execution_count": 18,
   "metadata": {},
   "outputs": [
    {
     "name": "stdout",
     "output_type": "stream",
     "text": [
      "[3]\n",
      "[3, 2]\n",
      "[3, 2, 1]\n",
      "[2, 1]\n",
      "[1]\n",
      "[]\n"
     ]
    }
   ],
   "source": [
    "# Simulate a queue of integers using list methods\n",
    "# Append(to simulate enqueue) and pop with argument 0(to simulate dequeue).\n",
    "\n",
    "queue = []\n",
    "queue.append(3)\n",
    "print(queue)\n",
    "queue.append(2)\n",
    "print(queue)\n",
    "queue.append(1)\n",
    "print(queue)\n",
    "queue.pop(0)\n",
    "print(queue)\n",
    "queue.pop(0)\n",
    "print(queue)\n",
    "queue.pop()\n",
    "print(queue)"
   ]
  }
 ],
 "metadata": {
  "kernelspec": {
   "display_name": "Python 3",
   "language": "python",
   "name": "python3"
  },
  "language_info": {
   "codemirror_mode": {
    "name": "ipython",
    "version": 3
   },
   "file_extension": ".py",
   "mimetype": "text/x-python",
   "name": "python",
   "nbconvert_exporter": "python",
   "pygments_lexer": "ipython3",
   "version": "3.8.3"
  }
 },
 "nbformat": 4,
 "nbformat_minor": 4
}
