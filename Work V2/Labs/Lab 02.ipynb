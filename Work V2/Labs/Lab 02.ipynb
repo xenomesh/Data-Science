{
 "cells": [
  {
   "cell_type": "code",
   "execution_count": null,
   "metadata": {},
   "outputs": [],
   "source": [
    "# Lab 02\n",
    "# Name: ALejandro Blancas\n",
    "# Date: 1/20/2021"
   ]
  },
  {
   "cell_type": "code",
   "execution_count": 30,
   "metadata": {},
   "outputs": [
    {
     "name": "stdout",
     "output_type": "stream",
     "text": [
      "Orignal values \n",
      " [9, 11, 22, 34, 17, 22, 22, 40]\n",
      "Sorted values\n",
      " [9, 11, 17, 22, 22, 22, 34, 40]\n",
      "Mean \n",
      "22.12\n",
      "Median \n",
      "22.00\n",
      "Mode \n",
      "22.00\n"
     ]
    }
   ],
   "source": [
    "# Problem 1 - Calculate mean,median,mode\n",
    "import statistics as stats\n",
    "values = [9, 11, 22, 34, 17, 22, 34, 22, 40]\n",
    "print(f'Orignal values \\n {values}')\n",
    "print(f'Sorted values\\n {sorted(values)}')\n",
    "\n",
    "print(f'Mean \\n{stats.mean(values):.2f}')\n",
    "print(f'Median \\n{stats.median(values):.2f}')\n",
    "print(f'Mode \\n{stats.mode(values):.2f}')\n",
    "\n"
   ]
  },
  {
   "cell_type": "code",
   "execution_count": null,
   "metadata": {},
   "outputs": [],
   "source": []
  }
 ],
 "metadata": {
  "kernelspec": {
   "display_name": "Python 3",
   "language": "python",
   "name": "python3"
  },
  "language_info": {
   "codemirror_mode": {
    "name": "ipython",
    "version": 3
   },
   "file_extension": ".py",
   "mimetype": "text/x-python",
   "name": "python",
   "nbconvert_exporter": "python",
   "pygments_lexer": "ipython3",
   "version": "3.8.3"
  }
 },
 "nbformat": 4,
 "nbformat_minor": 4
}
